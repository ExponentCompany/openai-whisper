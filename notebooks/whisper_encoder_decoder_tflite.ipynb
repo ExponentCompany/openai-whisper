{
  "cells": [
    {
      "cell_type": "markdown",
      "source": [
        "##Install required tools"
      ],
      "metadata": {
        "id": "QE9RRwY0bKVs"
      }
    },
    {
      "cell_type": "code",
      "source": [
        "!pip install git+https://github.com/openai/whisper.git \n",
        "!pip install onnx\n",
        "!pip install onnx_tf\n",
        "!git clone https://github.com/usefulsensors/openai-whisper.git\n",
        "!git clone https://github.com/openai/whisper.git "
      ],
      "metadata": {
        "id": "48ygP_3NbHjT",
        "outputId": "61f1e2bb-5841-4cd9-e382-3a9d282721ae",
        "colab": {
          "base_uri": "https://localhost:8080/"
        }
      },
      "execution_count": null,
      "outputs": [
        {
          "output_type": "stream",
          "name": "stdout",
          "text": [
            "Looking in indexes: https://pypi.org/simple, https://us-python.pkg.dev/colab-wheels/public/simple/\n",
            "Collecting git+https://github.com/openai/whisper.git\n",
            "  Cloning https://github.com/openai/whisper.git to /tmp/pip-req-build-1j3vlkcm\n",
            "  Running command git clone --filter=blob:none --quiet https://github.com/openai/whisper.git /tmp/pip-req-build-1j3vlkcm\n",
            "  Resolved https://github.com/openai/whisper.git to commit 12e1089462a2ea92e9ade6145e7be5b6883676ff\n",
            "  Preparing metadata (setup.py) ... \u001b[?25l\u001b[?25hdone\n",
            "Requirement already satisfied: numpy in /usr/local/lib/python3.8/dist-packages (from openai-whisper==20230117) (1.21.6)\n",
            "Requirement already satisfied: torch in /usr/local/lib/python3.8/dist-packages (from openai-whisper==20230117) (1.13.1+cu116)\n",
            "Requirement already satisfied: tqdm in /usr/local/lib/python3.8/dist-packages (from openai-whisper==20230117) (4.64.1)\n",
            "Requirement already satisfied: more-itertools in /usr/local/lib/python3.8/dist-packages (from openai-whisper==20230117) (9.0.0)\n",
            "Requirement already satisfied: transformers>=4.19.0 in /usr/local/lib/python3.8/dist-packages (from openai-whisper==20230117) (4.25.1)\n",
            "Requirement already satisfied: ffmpeg-python==0.2.0 in /usr/local/lib/python3.8/dist-packages (from openai-whisper==20230117) (0.2.0)\n",
            "Requirement already satisfied: future in /usr/local/lib/python3.8/dist-packages (from ffmpeg-python==0.2.0->openai-whisper==20230117) (0.16.0)\n",
            "Requirement already satisfied: requests in /usr/local/lib/python3.8/dist-packages (from transformers>=4.19.0->openai-whisper==20230117) (2.25.1)\n",
            "Requirement already satisfied: regex!=2019.12.17 in /usr/local/lib/python3.8/dist-packages (from transformers>=4.19.0->openai-whisper==20230117) (2022.6.2)\n",
            "Requirement already satisfied: packaging>=20.0 in /usr/local/lib/python3.8/dist-packages (from transformers>=4.19.0->openai-whisper==20230117) (21.3)\n",
            "Requirement already satisfied: tokenizers!=0.11.3,<0.14,>=0.11.1 in /usr/local/lib/python3.8/dist-packages (from transformers>=4.19.0->openai-whisper==20230117) (0.13.2)\n",
            "Requirement already satisfied: filelock in /usr/local/lib/python3.8/dist-packages (from transformers>=4.19.0->openai-whisper==20230117) (3.9.0)\n",
            "Requirement already satisfied: huggingface-hub<1.0,>=0.10.0 in /usr/local/lib/python3.8/dist-packages (from transformers>=4.19.0->openai-whisper==20230117) (0.11.1)\n",
            "Requirement already satisfied: pyyaml>=5.1 in /usr/local/lib/python3.8/dist-packages (from transformers>=4.19.0->openai-whisper==20230117) (6.0)\n",
            "Requirement already satisfied: typing-extensions in /usr/local/lib/python3.8/dist-packages (from torch->openai-whisper==20230117) (4.4.0)\n",
            "Requirement already satisfied: pyparsing!=3.0.5,>=2.0.2 in /usr/local/lib/python3.8/dist-packages (from packaging>=20.0->transformers>=4.19.0->openai-whisper==20230117) (3.0.9)\n",
            "Requirement already satisfied: urllib3<1.27,>=1.21.1 in /usr/local/lib/python3.8/dist-packages (from requests->transformers>=4.19.0->openai-whisper==20230117) (1.24.3)\n",
            "Requirement already satisfied: chardet<5,>=3.0.2 in /usr/local/lib/python3.8/dist-packages (from requests->transformers>=4.19.0->openai-whisper==20230117) (4.0.0)\n",
            "Requirement already satisfied: certifi>=2017.4.17 in /usr/local/lib/python3.8/dist-packages (from requests->transformers>=4.19.0->openai-whisper==20230117) (2022.12.7)\n",
            "Requirement already satisfied: idna<3,>=2.5 in /usr/local/lib/python3.8/dist-packages (from requests->transformers>=4.19.0->openai-whisper==20230117) (2.10)\n",
            "Looking in indexes: https://pypi.org/simple, https://us-python.pkg.dev/colab-wheels/public/simple/\n",
            "Requirement already satisfied: onnx in /usr/local/lib/python3.8/dist-packages (1.13.0)\n",
            "Requirement already satisfied: numpy>=1.16.6 in /usr/local/lib/python3.8/dist-packages (from onnx) (1.21.6)\n",
            "Requirement already satisfied: protobuf<4,>=3.20.2 in /usr/local/lib/python3.8/dist-packages (from onnx) (3.20.3)\n",
            "Requirement already satisfied: typing-extensions>=3.6.2.1 in /usr/local/lib/python3.8/dist-packages (from onnx) (4.4.0)\n",
            "Looking in indexes: https://pypi.org/simple, https://us-python.pkg.dev/colab-wheels/public/simple/\n",
            "Requirement already satisfied: onnx_tf in /usr/local/lib/python3.8/dist-packages (1.10.0)\n",
            "Requirement already satisfied: PyYAML in /usr/local/lib/python3.8/dist-packages (from onnx_tf) (6.0)\n",
            "Requirement already satisfied: tensorflow-addons in /usr/local/lib/python3.8/dist-packages (from onnx_tf) (0.19.0)\n",
            "Requirement already satisfied: onnx>=1.10.2 in /usr/local/lib/python3.8/dist-packages (from onnx_tf) (1.13.0)\n",
            "Requirement already satisfied: protobuf<4,>=3.20.2 in /usr/local/lib/python3.8/dist-packages (from onnx>=1.10.2->onnx_tf) (3.20.3)\n",
            "Requirement already satisfied: typing-extensions>=3.6.2.1 in /usr/local/lib/python3.8/dist-packages (from onnx>=1.10.2->onnx_tf) (4.4.0)\n",
            "Requirement already satisfied: numpy>=1.16.6 in /usr/local/lib/python3.8/dist-packages (from onnx>=1.10.2->onnx_tf) (1.21.6)\n",
            "Requirement already satisfied: packaging in /usr/local/lib/python3.8/dist-packages (from tensorflow-addons->onnx_tf) (21.3)\n",
            "Requirement already satisfied: typeguard>=2.7 in /usr/local/lib/python3.8/dist-packages (from tensorflow-addons->onnx_tf) (2.7.1)\n",
            "Requirement already satisfied: pyparsing!=3.0.5,>=2.0.2 in /usr/local/lib/python3.8/dist-packages (from packaging->tensorflow-addons->onnx_tf) (3.0.9)\n",
            "fatal: destination path 'openai-whisper' already exists and is not an empty directory.\n",
            "fatal: destination path 'whisper' already exists and is not an empty directory.\n"
          ]
        }
      ]
    },
    {
      "cell_type": "markdown",
      "source": [
        "##Generate whisper encoder tflite(hybrid) model and run Inference "
      ],
      "metadata": {
        "id": "WcOWJsHDbjrK"
      }
    },
    {
      "cell_type": "code",
      "source": [
        "import whisper\n",
        "import torch\n",
        "import tensorflow as tf\n",
        "import onnx\n",
        "import numpy as np\n",
        "import argparse\n",
        "import os\n",
        "import warnings\n",
        "import tqdm\n",
        "from onnx_tf.backend import prepare\n",
        "from whisper.audio import load_audio, log_mel_spectrogram,pad_or_trim,N_FRAMES, SAMPLE_RATE\n",
        "device = torch.device('cuda' if torch.cuda.is_available() else 'cpu')\n",
        "print('Using device:', device)\n",
        "\n",
        "#load openai->whisper(pytorch)->tiny model\n",
        "tiny_model = whisper.load_model(\"tiny\")\n",
        "\n",
        "#Export to onnx format\n",
        "torch.onnx.export(tiny_model.encoder, torch.randn(1,80,3000).to(device), \"./whisper-encoder.onnx\")\n",
        "onnx_model_path = './whisper-encoder.onnx'\n",
        "tf_model_path = 'model_tf-encoder'\n",
        "\n",
        "onnx_model = onnx.load(onnx_model_path)\n",
        "tf_rep = prepare(onnx_model)\n",
        "tf_rep.export_graph(tf_model_path)\n",
        "\n",
        "\n",
        "saved_model_dir = 'model_tf-encoder'\n",
        "tflite_model_path = 'whisper-encoder-hybrid.tflite'\n",
        "\n",
        "def representative_dataset_random():\n",
        "    for _ in range(100):\n",
        "      data = np.random.rand(1, 80, 3000)\n",
        "      yield [data.astype(np.float32)]\n",
        "\n",
        "def representative_dataset():\n",
        "    for _ in range(10):#Change this to 100 and provide 100 different audio files from known dataset \n",
        "      mel_from_file = log_mel_spectrogram('/content/whisper/tests/jfk.flac')\n",
        "      segment = pad_or_trim(mel_from_file, N_FRAMES)\n",
        "      segment = tf.expand_dims(segment, 0)\n",
        "      print(segment.shape)\n",
        "      yield [segment]\n",
        "\n",
        "# Convert to tflite(int8) model\n",
        "converter = tf.lite.TFLiteConverter.from_saved_model(saved_model_dir)\n",
        "converter.target_spec.supported_ops = [\n",
        "  tf.lite.OpsSet.TFLITE_BUILTINS, # enable TensorFlow Lite ops.\n",
        "  tf.lite.OpsSet.SELECT_TF_OPS # enable TensorFlow ops.\n",
        "]\n",
        "#converter.representative_dataset = representative_dataset\n",
        "#converter.inference_input_type = tf.int8  # or tf.uint8\n",
        "#converter.inference_output_type = tf.int8  # or tf.uint8\n",
        "converter.optimizations = [tf.lite.Optimize.DEFAULT]\n",
        "tflite_model = converter.convert()\n",
        "\n",
        "# Save the model\n",
        "with open(tflite_model_path, 'wb') as f:\n",
        "    f.write(tflite_model)\n",
        "import tensorflow as tf\n",
        "import numpy as np\n",
        "tflite_model_path = '/content/whisper-encoder-hybrid.tflite'\n",
        "\n",
        "# Load the TFLite model and allocate tensors\n",
        "interpreter_enc = tf.lite.Interpreter(model_path=tflite_model_path)\n",
        "interpreter_enc.allocate_tensors()\n",
        "\n",
        "print(\"== Input details ==\")\n",
        "print(\"name:\", interpreter_enc.get_input_details()[0]['name'])\n",
        "print(\"shape:\", interpreter_enc.get_input_details()[0]['shape'])\n",
        "print(\"type:\", interpreter_enc.get_input_details()[0]['dtype'])\n",
        "\n",
        "print(\"\\nDUMP INPUT\")\n",
        "print(interpreter_enc.get_input_details()[0])\n",
        "\n",
        "print(\"\\n== Output details ==\")\n",
        "print(\"name:\", interpreter_enc.get_output_details()[0]['name'])\n",
        "print(\"shape:\", interpreter_enc.get_output_details()[0]['shape'])\n",
        "print(\"type:\", interpreter_enc.get_output_details()[0]['dtype'])\n",
        "\n",
        "print(\"\\nDUMP OUTPUT\")\n",
        "print(interpreter_enc.get_output_details()[0])\n",
        "\n",
        "# Get input and output tensors\n",
        "input_details = interpreter_enc.get_input_details()\n",
        "output_details = interpreter_enc.get_output_details()\n",
        "output_tensor = interpreter_enc.get_output_details()[0]['index']\n",
        "\n",
        "# Test the model with random data\n",
        "input_shape = input_details[0]['shape']\n",
        "mel_from_file = log_mel_spectrogram('/content/whisper/tests/jfk.flac')\n",
        "input_tensor = pad_or_trim(mel_from_file, N_FRAMES)\n",
        "input_tensor = tf.expand_dims(input_tensor, 0)\n",
        "\n",
        "audio = whisper.load_audio('/content/whisper/tests/jfk.flac')\n",
        "audio = whisper.pad_or_trim(audio)\n",
        "mel = whisper.log_mel_spectrogram(audio)\n",
        "mel = np.expand_dims(mel,0)\n",
        "#input_tensor = np.array(input_tensor-128, dtype=np.int8)\n",
        "interpreter_enc.set_tensor(input_details[0]['index'], mel)\n",
        "\n",
        "interpreter_enc.invoke()\n",
        "print(\"Whisper Encoder Inference executed successfully\\n\")\n",
        "encoder_output_data = interpreter_enc.get_tensor(output_tensor)\n",
        "print(encoder_output_data.shape)\n",
        "print(encoder_output_data)\n",
        "np.savetxt(\"encoder_output.txt\", encoder_output_data.reshape((3,-1)), fmt=\"%s\", header=str(encoder_output_data.shape))"
      ],
      "metadata": {
        "id": "qAdi5KwDbciZ",
        "outputId": "fcdd5b23-ade7-48d8-853d-a0313b7144ac",
        "colab": {
          "base_uri": "https://localhost:8080/"
        }
      },
      "execution_count": null,
      "outputs": [
        {
          "output_type": "stream",
          "name": "stdout",
          "text": [
            "Using device: cpu\n"
          ]
        },
        {
          "output_type": "stream",
          "name": "stderr",
          "text": [
            "/usr/local/lib/python3.8/dist-packages/whisper/model.py:153: TracerWarning: Converting a tensor to a Python boolean might cause the trace to be incorrect. We can't record the data flow of Python values, so this value will be treated as a constant in the future. This means that the trace might not generalize to other inputs!\n",
            "  assert x.shape[1:] == self.positional_embedding.shape, \"incorrect audio shape\"\n",
            "WARNING:absl:Function `__call__` contains input name(s) x.1 with unsupported characters which will be renamed to x_1 in the SavedModel.\n",
            "WARNING:absl:Found untraced functions such as gen_tensor_dict while saving (showing 1 of 1). These functions will not be directly callable after loading.\n"
          ]
        },
        {
          "output_type": "stream",
          "name": "stdout",
          "text": [
            "== Input details ==\n",
            "name: serving_default_x.1:0\n",
            "shape: [   1   80 3000]\n",
            "type: <class 'numpy.float32'>\n",
            "\n",
            "DUMP INPUT\n",
            "{'name': 'serving_default_x.1:0', 'index': 0, 'shape': array([   1,   80, 3000], dtype=int32), 'shape_signature': array([   1,   80, 3000], dtype=int32), 'dtype': <class 'numpy.float32'>, 'quantization': (0.0, 0), 'quantization_parameters': {'scales': array([], dtype=float32), 'zero_points': array([], dtype=int32), 'quantized_dimension': 0}, 'sparsity_parameters': {}}\n",
            "\n",
            "== Output details ==\n",
            "name: PartitionedCall:0\n",
            "shape: [   1 1500  384]\n",
            "type: <class 'numpy.float32'>\n",
            "\n",
            "DUMP OUTPUT\n",
            "{'name': 'PartitionedCall:0', 'index': 557, 'shape': array([   1, 1500,  384], dtype=int32), 'shape_signature': array([   1, 1500,  384], dtype=int32), 'dtype': <class 'numpy.float32'>, 'quantization': (0.0, 0), 'quantization_parameters': {'scales': array([], dtype=float32), 'zero_points': array([], dtype=int32), 'quantized_dimension': 0}, 'sparsity_parameters': {}}\n",
            "Whisper Encoder Inference executed successfully\n",
            "\n",
            "(1, 1500, 384)\n",
            "[[[ 0.1652822   0.07022274  0.03968602 ...  0.05777109  0.15190029\n",
            "    0.13618726]\n",
            "  [-0.34840953  1.1078713   0.03957999 ...  0.22748828  0.1595304\n",
            "    0.77721167]\n",
            "  [ 0.06991951  1.5348687   0.4017524  ... -0.59559655 -0.79936975\n",
            "    0.73228824]\n",
            "  ...\n",
            "  [ 0.75333464 -1.8017194   0.33030826 ... -0.23692343 -0.39973748\n",
            "    0.47730672]\n",
            "  [-0.03046486 -0.5937029   0.14185447 ...  0.61029357  0.18512279\n",
            "    0.3535691 ]\n",
            "  [ 0.18795486 -0.16664332 -1.4215782  ...  0.07488409 -0.5044997\n",
            "   -0.1684205 ]]]\n"
          ]
        }
      ]
    },
    {
      "cell_type": "markdown",
      "source": [
        "## Convert from pytorch to decoder onnx"
      ],
      "metadata": {
        "id": "vAe5oHk1i0iI"
      }
    },
    {
      "cell_type": "code",
      "source": [
        "import whisper\n",
        "import torch\n",
        "\n",
        "tiny_model = whisper.load_model(\"tiny\")\n",
        "#start_tokens = [50258, 50259, 50359, 50363] #<|startoftranscript|><|en|><|translate|><|notimestamps|>\n",
        "torch.onnx.export(tiny_model.decoder, (torch.tensor([[50258, 50259, 50359, 50363]]).to(device), torch.randn(1, 1500, 384).to(device)), \"/content/whisper-decoder-language.onnx\")"
      ],
      "metadata": {
        "id": "DeDY0j0zitxx"
      },
      "execution_count": null,
      "outputs": []
    },
    {
      "cell_type": "markdown",
      "source": [
        "##Generate decoder language tflite(hybrid) model and run Inference"
      ],
      "metadata": {
        "id": "N531dxUQocM2"
      }
    },
    {
      "cell_type": "code",
      "source": [
        "from onnx_tf.backend import prepare\n",
        "import onnx\n",
        "\n",
        "onnx_model_path = '/content/whisper-decoder-language.onnx'\n",
        "tf_model_path = 'model_tf-decoder-language'\n",
        "\n",
        "onnx_model = onnx.load(onnx_model_path)\n",
        "tf_rep = prepare(onnx_model)\n",
        "tf_rep.export_graph(tf_model_path)\n",
        "saved_model_dir = 'model_tf-decoder-language'\n",
        "tflite_model_path = 'whisper-decoder-language-hybrid.tflite'\n",
        "#Change from random representative dataset to real representative dataset\n",
        "def representative_dataset_random():\n",
        "    for _ in range(1):\n",
        "      input_tensor = np.random.rand(1,1500,384)\n",
        "      decoder_input_ids = torch.tensor([[50258, 50259, 50359, 50363]])\n",
        "      decoder_input_ids = np.array(decoder_input_ids, dtype=np.int64)\n",
        "      yield [decoder_input_ids, input_tensor.astype(np.float32)]\n",
        "# Convert the model\n",
        "converter = tf.lite.TFLiteConverter.from_saved_model(saved_model_dir)\n",
        "converter.target_spec.supported_ops = [\n",
        "  tf.lite.OpsSet.TFLITE_BUILTINS, # enable TensorFlow Lite ops.\n",
        "  tf.lite.OpsSet.SELECT_TF_OPS # enable TensorFlow ops.\n",
        "]\n",
        "#converter.representative_dataset = representative_dataset_random\n",
        "#converter.inference_input_type = tf.int8  # or tf.uint8\n",
        "#converter.inference_output_type = tf.int8  # or tf.uint8\n",
        "converter.optimizations = [tf.lite.Optimize.DEFAULT]\n",
        "tflite_model = converter.convert()\n",
        "\n",
        "# Save the model\n",
        "with open(tflite_model_path, 'wb') as f:\n",
        "    f.write(tflite_model)\n",
        "tflite_model_path = '/content/whisper-decoder-language-hybrid.tflite'\n",
        "\n"
      ],
      "metadata": {
        "id": "3NTd-cq4ofzr",
        "outputId": "9f5d1749-e1f8-40ee-954a-eea9798e3267",
        "colab": {
          "base_uri": "https://localhost:8080/"
        }
      },
      "execution_count": null,
      "outputs": [
        {
          "output_type": "stream",
          "name": "stderr",
          "text": [
            "WARNING:absl:Function `__call__` contains input name(s) input.1, onnx_tf__tf_MatMul_1_434823e6 with unsupported characters which will be renamed to input_1, onnx_tf__tf_matmul_1_434823e6 in the SavedModel.\n",
            "WARNING:absl:Found untraced functions such as gen_tensor_dict while saving (showing 1 of 1). These functions will not be directly callable after loading.\n"
          ]
        }
      ]
    },
    {
      "cell_type": "code",
      "source": [
        "import numpy as np\n",
        "tflite_model_path='/content/whisper-decoder-language-int8.tflite'\n",
        "#tflite_model_path='/content/whisper-decoder_main-int8.tflite'\n",
        "print(tflite_model_path)\n",
        "\n",
        "# Load the TFLite model and allocate tensors\n",
        "interpreter = tf.lite.Interpreter(model_path=tflite_model_path)\n",
        "interpreter.allocate_tensors()\n",
        "\n",
        "decoder_input_ids = torch.tensor([50258, 50259, 50359, 50363])\n",
        "decoder_input_ids = tf.expand_dims(decoder_input_ids, 0)\n",
        "print(decoder_input_ids.shape)\n",
        "print(encoder_output_data.shape)\n",
        "\n",
        "input_tensor_1 = interpreter.get_input_details()[0]['index']\n",
        "interpreter.set_tensor(input_tensor_1, decoder_input_ids)\n",
        "\n",
        "input_tensor_2 = interpreter.get_input_details()[1]['index']\n",
        "interpreter.set_tensor(input_tensor_2, encoder_output_data)\n",
        "\n",
        "\n",
        "print(\"== Input details ==\")\n",
        "print(\"name:\", interpreter.get_input_details()[0]['name'])\n",
        "print(\"shape:\", interpreter.get_input_details()[0]['shape'])\n",
        "print(\"type:\", interpreter.get_input_details()[0]['dtype'])\n",
        "\n",
        "print(\"\\nDUMP INPUT\")\n",
        "print(interpreter.get_input_details()[0])\n",
        "\n",
        "print(\"\\n== Output details ==\")\n",
        "print(\"name:\", interpreter.get_output_details()[0]['name'])\n",
        "print(\"shape:\", interpreter.get_output_details()[0]['shape'])\n",
        "print(\"type:\", interpreter.get_output_details()[0]['dtype'])\n",
        "\n",
        "print(\"\\nDUMP OUTPUT\")\n",
        "print(interpreter.get_output_details()[0])\n",
        "\n",
        "interpreter.invoke()\n",
        "\n",
        "output_data = interpreter.get_tensor(output_tensor)\n",
        "print(output_data)\n",
        "np.savetxt(\"output.txt\", output_data.reshape((3,-1)), fmt=\"%s\", header=str(output_data.shape))\n",
        "output_details = interpreter.get_output_details()\n",
        "print(\"%d outputs\" % len(output_details))\n",
        "for index, output_detail in enumerate(output_details):\n",
        "  print(\"  Output %d\" % index)\n",
        "  print(\"    name:\", output_detail['name'])\n",
        "  print(\"    shape:\", output_detail['shape'])\n",
        "  print(\"    type:\", output_detail['dtype'])\n",
        "\n",
        "cleaned = np.argmax(output_data, axis=-1)\n",
        "last_token = cleaned[0,-1]\n",
        "print(last_token)\n",
        "\n"
      ],
      "metadata": {
        "id": "k4zDroZQONUp",
        "outputId": "cf04970b-759d-4837-8b01-daa667cfdd8a",
        "colab": {
          "base_uri": "https://localhost:8080/"
        }
      },
      "execution_count": null,
      "outputs": [
        {
          "output_type": "stream",
          "name": "stdout",
          "text": [
            "/content/whisper-decoder-language-int8.tflite\n",
            "(1, 4)\n",
            "(1, 1500, 384)\n",
            "== Input details ==\n",
            "name: serving_default_input.1:0\n",
            "shape: [1 4]\n",
            "type: <class 'numpy.int64'>\n",
            "\n",
            "DUMP INPUT\n",
            "{'name': 'serving_default_input.1:0', 'index': 0, 'shape': array([1, 4], dtype=int32), 'shape_signature': array([1, 4], dtype=int32), 'dtype': <class 'numpy.int64'>, 'quantization': (0.0, 0), 'quantization_parameters': {'scales': array([], dtype=float32), 'zero_points': array([], dtype=int32), 'quantized_dimension': 0}, 'sparsity_parameters': {}}\n",
            "\n",
            "== Output details ==\n",
            "name: StatefulPartitionedCall:0\n",
            "shape: [    1     4 51865]\n",
            "type: <class 'numpy.float32'>\n",
            "\n",
            "DUMP OUTPUT\n",
            "{'name': 'StatefulPartitionedCall:0', 'index': 939, 'shape': array([    1,     4, 51865], dtype=int32), 'shape_signature': array([    1,     4, 51865], dtype=int32), 'dtype': <class 'numpy.float32'>, 'quantization': (0.0, 0), 'quantization_parameters': {'scales': array([], dtype=float32), 'zero_points': array([], dtype=int32), 'quantized_dimension': 0}, 'sparsity_parameters': {}}\n",
            "[[[[ 1.44769597e+00  1.60480648e-01  2.16376781e+00 ...  2.03592749e-03\n",
            "     5.72935678e-04  5.96567930e-04]\n",
            "   [ 7.08257430e-04  3.15068610e-04  1.88384915e-03 ...  1.73514891e-05\n",
            "     1.21501398e-05  2.04843200e-05]\n",
            "   [ 7.51399375e-06  4.37194467e-05  9.23822063e-06 ...  2.12907344e-05\n",
            "     2.04148128e-05  2.07849662e-05]\n",
            "   [ 3.45920052e-05  5.57117892e-05  5.07718469e-05 ...  7.65056320e-05\n",
            "     2.97889910e-05  5.62773785e-05]]\n",
            "\n",
            "  [[ 1.17290092e-05  1.31337265e-05  2.21491664e-05 ...  7.03566184e-04\n",
            "     5.62131936e-05  1.26209125e-05]\n",
            "   [ 6.04865927e-05  1.60490181e-05  1.13623151e-04 ...  2.04985463e-05\n",
            "     1.36106019e-05  2.59161461e-05]\n",
            "   [ 3.42133608e-05  6.51840091e-05  7.22402910e-05 ...  9.49168287e-04\n",
            "     6.12667587e-04  5.11376362e-04]\n",
            "   [ 3.31849005e-04  3.48403322e-04  3.01356835e-04 ...  3.06590046e-05\n",
            "     2.46530890e-05  3.29061804e-05]]\n",
            "\n",
            "  [[ 4.85390919e-05  5.51207049e-05  6.75538467e-05 ...  2.82370220e-05\n",
            "     5.11915823e-05  5.64899383e-05]\n",
            "   [ 5.15648208e-05  2.43178874e-05  2.36825417e-05 ...  2.19389403e-05\n",
            "     2.34211475e-05  1.02658296e-05]\n",
            "   [ 5.46069032e-06  4.28612839e-06  5.04437321e-06 ...  6.51476221e-05\n",
            "     6.73036993e-06  2.89863510e-06]\n",
            "   [ 2.98805912e-06  3.21058747e-06  9.06451533e-06 ...  4.52689437e-06\n",
            "     3.20755453e-06  4.37376730e-06]]\n",
            "\n",
            "  [[ 1.22658776e-05  2.71508779e-05  1.96193687e-05 ...  2.03913737e-06\n",
            "     2.07169160e-06  3.54945064e-06]\n",
            "   [ 7.58339866e-06  1.29985774e-05  8.28446628e-06 ...  5.09422563e-04\n",
            "     2.34951774e-04  1.38897458e-05]\n",
            "   [ 3.01994464e-06  1.88808212e-06  2.07808694e-06 ...  2.33703773e-04\n",
            "     2.64573551e-04  2.65288090e-05]\n",
            "   [ 4.67783275e-06  3.48976937e-06  4.09894619e-06 ...  1.45381255e-05\n",
            "     9.11209827e-06  6.20553055e-06]]\n",
            "\n",
            "  [[ 6.11784117e-06  7.46960995e-06  1.08470549e-05 ...  1.04535493e-05\n",
            "     1.02156991e-05  1.06018788e-05]\n",
            "   [ 1.16564834e-05  1.00750021e-05  8.28569137e-06 ...  1.35634227e-05\n",
            "     1.36278368e-05  1.51901677e-05]\n",
            "   [ 1.55428588e-05  1.66158588e-05  1.57089853e-05 ...  2.43023769e-05\n",
            "     2.31320846e-05  2.10616436e-05]\n",
            "   [ 2.08620768e-05  2.41195576e-05  2.60765009e-05 ...  1.55620364e-05\n",
            "     1.79547242e-05  1.90546489e-05]]\n",
            "\n",
            "  [[ 1.81255455e-05  1.49153257e-05  1.22996125e-05 ...  2.14815518e-05\n",
            "     1.97938662e-05  1.72758828e-05]\n",
            "   [ 1.51924714e-05  1.63361947e-05  1.41829305e-05 ...  1.50363669e-01\n",
            "    -3.49128172e-02 -2.58774519e-01]\n",
            "   [ 3.00430674e-02 -2.41960213e-01  6.15821518e-02 ...  1.16985664e-02\n",
            "    -2.05595717e-02  8.36662650e-02]\n",
            "   [ 1.03626791e-02 -1.49404351e-02 -4.76161912e-02 ...  1.02329301e-02\n",
            "    -2.07596570e-02  7.40022808e-02]]]]\n",
            "1 outputs\n",
            "  Output 0\n",
            "    name: StatefulPartitionedCall:0\n",
            "    shape: [    1     4 51865]\n",
            "    type: <class 'numpy.float32'>\n",
            "[36 58 12 22]\n"
          ]
        }
      ]
    },
    {
      "cell_type": "code",
      "source": [
        "%ls -la"
      ],
      "metadata": {
        "id": "iK_4cdodlOMe",
        "outputId": "ee3c1ad6-1141-40f8-db96-aac4b635b144",
        "colab": {
          "base_uri": "https://localhost:8080/"
        }
      },
      "execution_count": null,
      "outputs": [
        {
          "output_type": "stream",
          "name": "stdout",
          "text": [
            "total 270344\n",
            "drwxr-xr-x  1 root root      4096 Jan 21 04:19 \u001b[0m\u001b[01;34m.\u001b[0m/\n",
            "drwxr-xr-x  1 root root      4096 Jan 21 03:30 \u001b[01;34m..\u001b[0m/\n",
            "drwxr-xr-x  4 root root      4096 Jan 19 14:35 \u001b[01;34m.config\u001b[0m/\n",
            "-rw-r--r--  1 root root   6354294 Jan 21 04:26 encoder_output.txt\n",
            "drwxr-xr-x  2 root root      4096 Jan 21 04:18 \u001b[01;34m.ipynb_checkpoints\u001b[0m/\n",
            "drwxr-xr-x  4 root root      4096 Jan 21 04:27 \u001b[01;34mmodel_tf-decoder-language\u001b[0m/\n",
            "drwxr-xr-x  4 root root      4096 Jan 21 04:26 \u001b[01;34mmodel_tf-encoder\u001b[0m/\n",
            "drwxr-xr-x 11 root root      4096 Jan 21 03:47 \u001b[01;34mopenai-whisper\u001b[0m/\n",
            "drwxr-xr-x  1 root root      4096 Jan 19 14:35 \u001b[01;34msample_data\u001b[0m/\n",
            "drwxr-xr-x  8 root root      4096 Jan 21 04:14 \u001b[01;34mwhisper\u001b[0m/\n",
            "-rw-r--r--  1 root root  30195320 Jan 21 04:27 whisper-decoder-language-int8.tflite\n",
            "-rw-r--r--  1 root root 197262618 Jan 21 04:26 whisper-decoder-language.onnx\n",
            "-rw-r--r--  1 root root  10099392 Jan 21 04:26 whisper-encoder-hybrid.tflite\n",
            "-rw-r--r--  1 root root  32875460 Jan 21 04:26 whisper-encoder.onnx\n"
          ]
        }
      ]
    }
  ],
  "metadata": {
    "colab": {
      "provenance": [],
      "machine_shape": "hm"
    },
    "kernelspec": {
      "display_name": "Python 3",
      "name": "python3"
    },
    "language_info": {
      "name": "python"
    },
    "gpuClass": "premium"
  },
  "nbformat": 4,
  "nbformat_minor": 0
}