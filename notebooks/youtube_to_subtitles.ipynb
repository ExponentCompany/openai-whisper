{
  "nbformat": 4,
  "nbformat_minor": 0,
  "metadata": {
    "colab": {
      "provenance": []
    },
    "kernelspec": {
      "name": "python3",
      "display_name": "Python 3"
    },
    "language_info": {
      "name": "python"
    }
  },
  "cells": [
    {
      "cell_type": "code",
      "execution_count": 1,
      "metadata": {
        "colab": {
          "base_uri": "https://localhost:8080/"
        },
        "id": "snSXDF50zxRe",
        "outputId": "805aea92-b236-470a-af07-04eb41337538"
      },
      "outputs": [
        {
          "output_type": "stream",
          "name": "stdout",
          "text": [
            "Looking in indexes: https://pypi.org/simple, https://us-python.pkg.dev/colab-wheels/public/simple/\n",
            "Collecting git+https://github.com/m1guelpf/yt-whisper.git\n",
            "  Cloning https://github.com/m1guelpf/yt-whisper.git to /tmp/pip-req-build-pdffgy_w\n",
            "  Running command git clone -q https://github.com/m1guelpf/yt-whisper.git /tmp/pip-req-build-pdffgy_w\n",
            "Collecting whisper@ git+https://github.com/openai/whisper.git@main#egg=whisper\n",
            "  Cloning https://github.com/openai/whisper.git (to revision main) to /tmp/pip-install-pym_tar6/whisper_0548dab376d24f6f8d27921bdf8cb771\n",
            "  Running command git clone -q https://github.com/openai/whisper.git /tmp/pip-install-pym_tar6/whisper_0548dab376d24f6f8d27921bdf8cb771\n",
            "Collecting youtube-dl\n",
            "  Downloading youtube_dl-2021.12.17-py2.py3-none-any.whl (1.9 MB)\n",
            "\u001b[K     |████████████████████████████████| 1.9 MB 5.0 MB/s \n",
            "\u001b[?25hRequirement already satisfied: numpy in /usr/local/lib/python3.7/dist-packages (from whisper@ git+https://github.com/openai/whisper.git@main#egg=whisper->yt-whisper==1.0) (1.21.6)\n",
            "Requirement already satisfied: torch in /usr/local/lib/python3.7/dist-packages (from whisper@ git+https://github.com/openai/whisper.git@main#egg=whisper->yt-whisper==1.0) (1.12.1+cu113)\n",
            "Requirement already satisfied: tqdm in /usr/local/lib/python3.7/dist-packages (from whisper@ git+https://github.com/openai/whisper.git@main#egg=whisper->yt-whisper==1.0) (4.64.1)\n",
            "Requirement already satisfied: more-itertools in /usr/local/lib/python3.7/dist-packages (from whisper@ git+https://github.com/openai/whisper.git@main#egg=whisper->yt-whisper==1.0) (8.14.0)\n",
            "Collecting transformers>=4.19.0\n",
            "  Downloading transformers-4.22.2-py3-none-any.whl (4.9 MB)\n",
            "\u001b[K     |████████████████████████████████| 4.9 MB 25.9 MB/s \n",
            "\u001b[?25hCollecting ffmpeg-python==0.2.0\n",
            "  Downloading ffmpeg_python-0.2.0-py3-none-any.whl (25 kB)\n",
            "Requirement already satisfied: future in /usr/local/lib/python3.7/dist-packages (from ffmpeg-python==0.2.0->whisper@ git+https://github.com/openai/whisper.git@main#egg=whisper->yt-whisper==1.0) (0.16.0)\n",
            "Requirement already satisfied: regex!=2019.12.17 in /usr/local/lib/python3.7/dist-packages (from transformers>=4.19.0->whisper@ git+https://github.com/openai/whisper.git@main#egg=whisper->yt-whisper==1.0) (2022.6.2)\n",
            "Requirement already satisfied: importlib-metadata in /usr/local/lib/python3.7/dist-packages (from transformers>=4.19.0->whisper@ git+https://github.com/openai/whisper.git@main#egg=whisper->yt-whisper==1.0) (4.12.0)\n",
            "Requirement already satisfied: requests in /usr/local/lib/python3.7/dist-packages (from transformers>=4.19.0->whisper@ git+https://github.com/openai/whisper.git@main#egg=whisper->yt-whisper==1.0) (2.23.0)\n",
            "Requirement already satisfied: packaging>=20.0 in /usr/local/lib/python3.7/dist-packages (from transformers>=4.19.0->whisper@ git+https://github.com/openai/whisper.git@main#egg=whisper->yt-whisper==1.0) (21.3)\n",
            "Collecting huggingface-hub<1.0,>=0.9.0\n",
            "  Downloading huggingface_hub-0.10.0-py3-none-any.whl (163 kB)\n",
            "\u001b[K     |████████████████████████████████| 163 kB 67.3 MB/s \n",
            "\u001b[?25hRequirement already satisfied: filelock in /usr/local/lib/python3.7/dist-packages (from transformers>=4.19.0->whisper@ git+https://github.com/openai/whisper.git@main#egg=whisper->yt-whisper==1.0) (3.8.0)\n",
            "Requirement already satisfied: pyyaml>=5.1 in /usr/local/lib/python3.7/dist-packages (from transformers>=4.19.0->whisper@ git+https://github.com/openai/whisper.git@main#egg=whisper->yt-whisper==1.0) (6.0)\n",
            "Collecting tokenizers!=0.11.3,<0.13,>=0.11.1\n",
            "  Downloading tokenizers-0.12.1-cp37-cp37m-manylinux_2_12_x86_64.manylinux2010_x86_64.whl (6.6 MB)\n",
            "\u001b[K     |████████████████████████████████| 6.6 MB 41.1 MB/s \n",
            "\u001b[?25hRequirement already satisfied: typing-extensions>=3.7.4.3 in /usr/local/lib/python3.7/dist-packages (from huggingface-hub<1.0,>=0.9.0->transformers>=4.19.0->whisper@ git+https://github.com/openai/whisper.git@main#egg=whisper->yt-whisper==1.0) (4.1.1)\n",
            "Requirement already satisfied: pyparsing!=3.0.5,>=2.0.2 in /usr/local/lib/python3.7/dist-packages (from packaging>=20.0->transformers>=4.19.0->whisper@ git+https://github.com/openai/whisper.git@main#egg=whisper->yt-whisper==1.0) (3.0.9)\n",
            "Requirement already satisfied: zipp>=0.5 in /usr/local/lib/python3.7/dist-packages (from importlib-metadata->transformers>=4.19.0->whisper@ git+https://github.com/openai/whisper.git@main#egg=whisper->yt-whisper==1.0) (3.8.1)\n",
            "Requirement already satisfied: idna<3,>=2.5 in /usr/local/lib/python3.7/dist-packages (from requests->transformers>=4.19.0->whisper@ git+https://github.com/openai/whisper.git@main#egg=whisper->yt-whisper==1.0) (2.10)\n",
            "Requirement already satisfied: chardet<4,>=3.0.2 in /usr/local/lib/python3.7/dist-packages (from requests->transformers>=4.19.0->whisper@ git+https://github.com/openai/whisper.git@main#egg=whisper->yt-whisper==1.0) (3.0.4)\n",
            "Requirement already satisfied: urllib3!=1.25.0,!=1.25.1,<1.26,>=1.21.1 in /usr/local/lib/python3.7/dist-packages (from requests->transformers>=4.19.0->whisper@ git+https://github.com/openai/whisper.git@main#egg=whisper->yt-whisper==1.0) (1.24.3)\n",
            "Requirement already satisfied: certifi>=2017.4.17 in /usr/local/lib/python3.7/dist-packages (from requests->transformers>=4.19.0->whisper@ git+https://github.com/openai/whisper.git@main#egg=whisper->yt-whisper==1.0) (2022.6.15)\n",
            "Building wheels for collected packages: yt-whisper, whisper\n",
            "  Building wheel for yt-whisper (setup.py) ... \u001b[?25l\u001b[?25hdone\n",
            "  Created wheel for yt-whisper: filename=yt_whisper-1.0-py3-none-any.whl size=4471 sha256=b8db645d33dfbc4d51208b946a9cec7264da50fc743c26e0c6685040ab908c44\n",
            "  Stored in directory: /tmp/pip-ephem-wheel-cache-cw7onlh1/wheels/09/71/cb/0b7f41a972edfe051bce3201d22fec8aaf94b1d237188646e8\n",
            "  Building wheel for whisper (setup.py) ... \u001b[?25l\u001b[?25hdone\n",
            "  Created wheel for whisper: filename=whisper-1.0-py3-none-any.whl size=1175020 sha256=d1b85b6ed26dbfeb30f84cd5991341f2c2426344d1936dd52367e7d4def5df27\n",
            "  Stored in directory: /tmp/pip-ephem-wheel-cache-cw7onlh1/wheels/e2/4f/c8/4edad47403f43079d4be737294f7ecf4064e8c18500a11ccb9\n",
            "Successfully built yt-whisper whisper\n",
            "Installing collected packages: tokenizers, huggingface-hub, transformers, ffmpeg-python, youtube-dl, whisper, yt-whisper\n",
            "Successfully installed ffmpeg-python-0.2.0 huggingface-hub-0.10.0 tokenizers-0.12.1 transformers-4.22.2 whisper-1.0 youtube-dl-2021.12.17 yt-whisper-1.0\n"
          ]
        }
      ],
      "source": [
        "!pip install git+https://github.com/m1guelpf/yt-whisper.git"
      ]
    },
    {
      "cell_type": "code",
      "source": [
        "# on Ubuntu or Debian\n",
        "!sudo apt update  \n",
        "!sudo apt install ffmpeg"
      ],
      "metadata": {
        "colab": {
          "base_uri": "https://localhost:8080/"
        },
        "id": "47fOx-UOz3ly",
        "outputId": "535edb13-e890-4efe-d570-c8ca8a1de54f"
      },
      "execution_count": 2,
      "outputs": [
        {
          "output_type": "stream",
          "name": "stdout",
          "text": [
            "\u001b[33m\r0% [Working]\u001b[0m\r            \rGet:1 https://cloud.r-project.org/bin/linux/ubuntu bionic-cran40/ InRelease [3,626 B]\n",
            "Hit:2 http://archive.ubuntu.com/ubuntu bionic InRelease\n",
            "Ign:3 https://developer.download.nvidia.com/compute/machine-learning/repos/ubuntu1804/x86_64  InRelease\n",
            "Get:4 https://developer.download.nvidia.com/compute/cuda/repos/ubuntu1804/x86_64  InRelease [1,581 B]\n",
            "Get:5 http://archive.ubuntu.com/ubuntu bionic-updates InRelease [88.7 kB]\n",
            "Hit:6 https://developer.download.nvidia.com/compute/machine-learning/repos/ubuntu1804/x86_64  Release\n",
            "Get:7 http://security.ubuntu.com/ubuntu bionic-security InRelease [88.7 kB]\n",
            "Hit:8 http://ppa.launchpad.net/c2d4u.team/c2d4u4.0+/ubuntu bionic InRelease\n",
            "Get:9 http://archive.ubuntu.com/ubuntu bionic-backports InRelease [83.3 kB]\n",
            "Hit:10 http://ppa.launchpad.net/cran/libgit2/ubuntu bionic InRelease\n",
            "Get:11 https://developer.download.nvidia.com/compute/cuda/repos/ubuntu1804/x86_64  Packages [913 kB]\n",
            "Hit:13 http://ppa.launchpad.net/deadsnakes/ppa/ubuntu bionic InRelease\n",
            "Hit:14 http://ppa.launchpad.net/graphics-drivers/ppa/ubuntu bionic InRelease\n",
            "Get:15 http://archive.ubuntu.com/ubuntu bionic-updates/universe amd64 Packages [2,322 kB]\n",
            "Get:16 http://archive.ubuntu.com/ubuntu bionic-updates/main amd64 Packages [3,422 kB]\n",
            "Get:17 http://security.ubuntu.com/ubuntu bionic-security/universe amd64 Packages [1,545 kB]\n",
            "Get:18 http://security.ubuntu.com/ubuntu bionic-security/main amd64 Packages [2,990 kB]\n",
            "Fetched 11.5 MB in 2s (4,611 kB/s)\n",
            "Reading package lists... Done\n",
            "Building dependency tree       \n",
            "Reading state information... Done\n",
            "20 packages can be upgraded. Run 'apt list --upgradable' to see them.\n",
            "Reading package lists... Done\n",
            "Building dependency tree       \n",
            "Reading state information... Done\n",
            "ffmpeg is already the newest version (7:3.4.11-0ubuntu0.1).\n",
            "The following package was automatically installed and is no longer required:\n",
            "  libnvidia-common-460\n",
            "Use 'sudo apt autoremove' to remove it.\n",
            "0 upgraded, 0 newly installed, 0 to remove and 20 not upgraded.\n"
          ]
        }
      ]
    },
    {
      "cell_type": "code",
      "source": [
        "!yt_whisper https://www.youtube.com/watch?v=3A8kawxMOcQ"
      ],
      "metadata": {
        "id": "KyHPye0M0AzX"
      },
      "execution_count": null,
      "outputs": []
    },
    {
      "cell_type": "code",
      "source": [
        "!yt_whisper https://www.youtube.com/watch?v=3A8kawxMOcQ --model tiny --task translate"
      ],
      "metadata": {
        "colab": {
          "base_uri": "https://localhost:8080/"
        },
        "id": "v-jpr46t5QAC",
        "outputId": "815be82a-f737-43f4-86a2-7caaeec876ac"
      },
      "execution_count": null,
      "outputs": [
        {
          "output_type": "stream",
          "name": "stdout",
          "text": [
            "100%|█████████████████████████████████████| 2.87G/2.87G [01:01<00:00, 50.0MiB/s]\n",
            "tcmalloc: large alloc 3087007744 bytes == 0x5f82000 @  0x7f54f69f71e7 0x4b2150 0x5ac2ec 0x5dc6af 0x58ee9b 0x5901a3 0x5e3f6b 0x4d18aa 0x51b31c 0x58f2a7 0x51740e 0x5b41c5 0x58f49e 0x51b221 0x58f2a7 0x51740e 0x5b41c5 0x604133 0x606e06 0x606ecc 0x609aa6 0x64d332 0x64d4de 0x7f54f65f4c87 0x5b561a\n",
            "Downloading video: 0.0%\n",
            "Downloading video: 0.1%\n",
            "Downloading video: 0.2%\n",
            "Downloading video: 0.4%\n",
            "Downloading video: 0.8%\n",
            "Downloading video: 1.7%\n",
            "Downloading video: 3.0%\n",
            "Downloading video: 4.1%\n",
            "Downloading video: 5.9%\n",
            "Downloading video: 7.3%\n",
            "Downloading video: 8.7%\n",
            "Downloading video: 9.8%\n",
            "Downloading video: 11.7%\n",
            "Downloading video: 12.9%\n",
            "Downloading video: 14.7%\n",
            "Downloading video: 15.9%\n",
            "Downloading video: 17.8%\n",
            "Downloading video: 19.0%\n",
            "Downloading video: 20.3%\n",
            "Downloading video: 21.6%\n",
            "Downloading video: 23.0%\n",
            "Downloading video: 24.6%\n",
            "Downloading video: 25.8%\n",
            "Downloading video: 27.7%\n",
            "Downloading video: 28.9%\n",
            "Downloading video: 30.2%\n",
            "Downloading video: 31.5%\n",
            "Downloading video: 32.9%\n",
            "Downloading video: 34.5%\n",
            "Downloading video: 35.7%\n",
            "Downloading video: 37.6%\n",
            "Downloading video: 38.8%\n",
            "Downloading video: 40.1%\n",
            "Downloading video: 41.4%\n",
            "Downloading video: 42.9%\n",
            "Downloading video: 44.4%\n",
            "Downloading video: 45.7%\n",
            "Downloading video: 47.0%\n",
            "Downloading video: 48.4%\n",
            "Downloading video: 49.9%\n",
            "Downloading video: 51.4%\n",
            "Downloading video: 52.7%\n",
            "Downloading video: 54.0%\n",
            "Downloading video: 55.5%\n",
            "Downloading video: 57.0%\n",
            "Downloading video: 58.2%\n",
            "Downloading video: 59.5%\n",
            "Downloading video: 60.8%\n",
            "Downloading video: 62.3%\n",
            "Downloading video: 63.8%\n",
            "Downloading video: 65.1%\n",
            "Downloading video: 66.4%\n",
            "Downloading video: 67.7%\n",
            "Downloading video: 69.2%\n",
            "Downloading video: 70.7%\n",
            "Downloading video: 71.9%\n",
            "Downloading video: 73.2%\n",
            "Downloading video: 74.6%\n",
            "Downloading video: 76.1%\n",
            "Downloading video: 77.6%\n",
            "Downloading video: 78.8%\n",
            "Downloading video: 80.1%\n",
            "Downloading video: 81.5%\n",
            "Downloading video: 83.0%\n",
            "Downloading video: 84.6%\n",
            "Downloading video: 85.8%\n",
            "Downloading video: 87.1%\n",
            "Downloading video: 88.6%\n",
            "Downloading video: 90.0%\n",
            "Downloading video: 91.2%\n",
            "Downloading video: 93.1%\n",
            "Downloading video: 94.2%\n",
            "Downloading video: 96.2%\n",
            "Downloading video: 97.4%\n",
            "Downloading video: 98.7%\n",
            "Downloading video: 100.0%\n",
            "Downloaded video \"Niranjan House Wrming\". Generating subtitles...\n",
            "Detected language: Hindi\n",
            " 13% 3000/23463 [02:23<14:24, 23.67frames/s]"
          ]
        }
      ]
    }
  ]
}
