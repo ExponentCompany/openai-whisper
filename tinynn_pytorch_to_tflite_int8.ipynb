{
  "cells": [
    {
      "cell_type": "markdown",
      "source": [
        "##Install required tools"
      ],
      "metadata": {
        "id": "QE9RRwY0bKVs"
      }
    },
    {
      "cell_type": "code",
      "source": [
        "!pip install git+https://github.com/openai/whisper.git \n",
        "!pip install onnx\n",
        "!pip install onnx_tf\n",
        "!git clone https://github.com/openai/whisper.git\n",
        "!git clone https://github.com/usefulsensors/openai-whisper.git"
      ],
      "metadata": {
        "id": "48ygP_3NbHjT",
        "outputId": "62a3b611-434a-4724-e9cd-7dfc5a1a201e",
        "colab": {
          "base_uri": "https://localhost:8080/"
        }
      },
      "execution_count": 1,
      "outputs": [
        {
          "output_type": "stream",
          "name": "stdout",
          "text": [
            "Looking in indexes: https://pypi.org/simple, https://us-python.pkg.dev/colab-wheels/public/simple/\n",
            "Collecting git+https://github.com/openai/whisper.git\n",
            "  Cloning https://github.com/openai/whisper.git to /tmp/pip-req-build-9qlfj4nk\n",
            "  Running command git clone -q https://github.com/openai/whisper.git /tmp/pip-req-build-9qlfj4nk\n",
            "Requirement already satisfied: numpy in /usr/local/lib/python3.7/dist-packages (from whisper==1.0) (1.21.6)\n",
            "Requirement already satisfied: torch in /usr/local/lib/python3.7/dist-packages (from whisper==1.0) (1.12.1+cu113)\n",
            "Requirement already satisfied: tqdm in /usr/local/lib/python3.7/dist-packages (from whisper==1.0) (4.64.1)\n",
            "Requirement already satisfied: more-itertools in /usr/local/lib/python3.7/dist-packages (from whisper==1.0) (8.14.0)\n",
            "Requirement already satisfied: transformers>=4.19.0 in /usr/local/lib/python3.7/dist-packages (from whisper==1.0) (4.23.1)\n",
            "Requirement already satisfied: ffmpeg-python==0.2.0 in /usr/local/lib/python3.7/dist-packages (from whisper==1.0) (0.2.0)\n",
            "Requirement already satisfied: future in /usr/local/lib/python3.7/dist-packages (from ffmpeg-python==0.2.0->whisper==1.0) (0.16.0)\n",
            "Requirement already satisfied: tokenizers!=0.11.3,<0.14,>=0.11.1 in /usr/local/lib/python3.7/dist-packages (from transformers>=4.19.0->whisper==1.0) (0.13.1)\n",
            "Requirement already satisfied: packaging>=20.0 in /usr/local/lib/python3.7/dist-packages (from transformers>=4.19.0->whisper==1.0) (21.3)\n",
            "Requirement already satisfied: huggingface-hub<1.0,>=0.10.0 in /usr/local/lib/python3.7/dist-packages (from transformers>=4.19.0->whisper==1.0) (0.10.1)\n",
            "Requirement already satisfied: importlib-metadata in /usr/local/lib/python3.7/dist-packages (from transformers>=4.19.0->whisper==1.0) (5.0.0)\n",
            "Requirement already satisfied: filelock in /usr/local/lib/python3.7/dist-packages (from transformers>=4.19.0->whisper==1.0) (3.8.0)\n",
            "Requirement already satisfied: requests in /usr/local/lib/python3.7/dist-packages (from transformers>=4.19.0->whisper==1.0) (2.23.0)\n",
            "Requirement already satisfied: regex!=2019.12.17 in /usr/local/lib/python3.7/dist-packages (from transformers>=4.19.0->whisper==1.0) (2022.6.2)\n",
            "Requirement already satisfied: pyyaml>=5.1 in /usr/local/lib/python3.7/dist-packages (from transformers>=4.19.0->whisper==1.0) (6.0)\n",
            "Requirement already satisfied: typing-extensions>=3.7.4.3 in /usr/local/lib/python3.7/dist-packages (from huggingface-hub<1.0,>=0.10.0->transformers>=4.19.0->whisper==1.0) (4.1.1)\n",
            "Requirement already satisfied: pyparsing!=3.0.5,>=2.0.2 in /usr/local/lib/python3.7/dist-packages (from packaging>=20.0->transformers>=4.19.0->whisper==1.0) (3.0.9)\n",
            "Requirement already satisfied: zipp>=0.5 in /usr/local/lib/python3.7/dist-packages (from importlib-metadata->transformers>=4.19.0->whisper==1.0) (3.9.0)\n",
            "Requirement already satisfied: certifi>=2017.4.17 in /usr/local/lib/python3.7/dist-packages (from requests->transformers>=4.19.0->whisper==1.0) (2022.9.24)\n",
            "Requirement already satisfied: idna<3,>=2.5 in /usr/local/lib/python3.7/dist-packages (from requests->transformers>=4.19.0->whisper==1.0) (2.10)\n",
            "Requirement already satisfied: urllib3!=1.25.0,!=1.25.1,<1.26,>=1.21.1 in /usr/local/lib/python3.7/dist-packages (from requests->transformers>=4.19.0->whisper==1.0) (1.24.3)\n",
            "Requirement already satisfied: chardet<4,>=3.0.2 in /usr/local/lib/python3.7/dist-packages (from requests->transformers>=4.19.0->whisper==1.0) (3.0.4)\n",
            "Looking in indexes: https://pypi.org/simple, https://us-python.pkg.dev/colab-wheels/public/simple/\n",
            "Requirement already satisfied: onnx in /usr/local/lib/python3.7/dist-packages (1.12.0)\n",
            "Requirement already satisfied: typing-extensions>=3.6.2.1 in /usr/local/lib/python3.7/dist-packages (from onnx) (4.1.1)\n",
            "Requirement already satisfied: numpy>=1.16.6 in /usr/local/lib/python3.7/dist-packages (from onnx) (1.21.6)\n",
            "Requirement already satisfied: protobuf<=3.20.1,>=3.12.2 in /usr/local/lib/python3.7/dist-packages (from onnx) (3.17.3)\n",
            "Requirement already satisfied: six>=1.9 in /usr/local/lib/python3.7/dist-packages (from protobuf<=3.20.1,>=3.12.2->onnx) (1.15.0)\n",
            "Looking in indexes: https://pypi.org/simple, https://us-python.pkg.dev/colab-wheels/public/simple/\n",
            "Requirement already satisfied: onnx_tf in /usr/local/lib/python3.7/dist-packages (1.10.0)\n",
            "Requirement already satisfied: onnx>=1.10.2 in /usr/local/lib/python3.7/dist-packages (from onnx_tf) (1.12.0)\n",
            "Requirement already satisfied: tensorflow-addons in /usr/local/lib/python3.7/dist-packages (from onnx_tf) (0.18.0)\n",
            "Requirement already satisfied: PyYAML in /usr/local/lib/python3.7/dist-packages (from onnx_tf) (6.0)\n",
            "Requirement already satisfied: protobuf<=3.20.1,>=3.12.2 in /usr/local/lib/python3.7/dist-packages (from onnx>=1.10.2->onnx_tf) (3.17.3)\n",
            "Requirement already satisfied: numpy>=1.16.6 in /usr/local/lib/python3.7/dist-packages (from onnx>=1.10.2->onnx_tf) (1.21.6)\n",
            "Requirement already satisfied: typing-extensions>=3.6.2.1 in /usr/local/lib/python3.7/dist-packages (from onnx>=1.10.2->onnx_tf) (4.1.1)\n",
            "Requirement already satisfied: six>=1.9 in /usr/local/lib/python3.7/dist-packages (from protobuf<=3.20.1,>=3.12.2->onnx>=1.10.2->onnx_tf) (1.15.0)\n",
            "Requirement already satisfied: packaging in /usr/local/lib/python3.7/dist-packages (from tensorflow-addons->onnx_tf) (21.3)\n",
            "Requirement already satisfied: typeguard>=2.7 in /usr/local/lib/python3.7/dist-packages (from tensorflow-addons->onnx_tf) (2.7.1)\n",
            "Requirement already satisfied: pyparsing!=3.0.5,>=2.0.2 in /usr/local/lib/python3.7/dist-packages (from packaging->tensorflow-addons->onnx_tf) (3.0.9)\n",
            "fatal: destination path 'whisper' already exists and is not an empty directory.\n",
            "fatal: destination path 'openai-whisper' already exists and is not an empty directory.\n"
          ]
        }
      ]
    },
    {
      "cell_type": "markdown",
      "source": [
        "##Generate whisper encoder tflite(int8) model and run Inference "
      ],
      "metadata": {
        "id": "WcOWJsHDbjrK"
      }
    },
    {
      "cell_type": "code",
      "source": [
        "import whisper\n",
        "import torch\n",
        "import tensorflow as tf\n",
        "import onnx\n",
        "import numpy as np\n",
        "import argparse\n",
        "import os\n",
        "import warnings\n",
        "import tqdm\n",
        "from onnx_tf.backend import prepare\n",
        "from whisper.audio import load_audio, log_mel_spectrogram,pad_or_trim,N_FRAMES, SAMPLE_RATE\n",
        "\n",
        "#load openai->whisper(pytorch)->tiny model\n",
        "tiny_model = whisper.load_model(\"tiny\")\n",
        "\n",
        "#Export to onnx format\n",
        "torch.onnx.export(tiny_model.encoder, torch.randn(1,80,3000).to(\"cpu\"), \"./whisper-encoder.onnx\")\n",
        "#torch.onnx.export(tiny_model.decoder, (torch.tensor([[50258]]).to(\"cuda\"), torch.randn(1,384,384).to(\"cuda\")), \"./whisper-decoder_main.onnx\")\n",
        "#torch.onnx.export(tiny_model.decoder, (torch.tensor([[50258, 50259, 50359]]).to(\"cuda\"), torch.randn(1, 384, 384).to(\"cuda\")), \"./whisper-decoder_language.onnx\")\n",
        "onnx_model_path = './whisper-encoder.onnx'\n",
        "tf_model_path = 'model_tf-encoder'\n",
        "\n",
        "onnx_model = onnx.load(onnx_model_path)\n",
        "tf_rep = prepare(onnx_model)\n",
        "tf_rep.export_graph(tf_model_path)\n",
        "\n",
        "\n",
        "saved_model_dir = 'model_tf-encoder'\n",
        "tflite_model_path = 'whisper-encoder-int8.tflite'\n",
        "\n",
        "def representative_dataset_random():\n",
        "    for _ in range(100):\n",
        "      data = np.random.rand(1, 80, 3000)\n",
        "      yield [data.astype(np.float32)]\n",
        "\n",
        "def representative_dataset():\n",
        "    for _ in range(10):#Change this to 100 and provide 100 different audio files \n",
        "      mel_from_file = log_mel_spectrogram('/content/whisper/tests/jfk.flac')\n",
        "      segment = pad_or_trim(mel_from_file, N_FRAMES)\n",
        "      segment = tf.expand_dims(segment, 0)\n",
        "      print(segment.shape)\n",
        "      yield [segment]\n",
        "\n",
        "# Convert to tflite(int8) model\n",
        "converter = tf.lite.TFLiteConverter.from_saved_model(saved_model_dir)\n",
        "converter.target_spec.supported_ops = [\n",
        "  tf.lite.OpsSet.TFLITE_BUILTINS, # enable TensorFlow Lite ops.\n",
        "  tf.lite.OpsSet.SELECT_TF_OPS # enable TensorFlow ops.\n",
        "]\n",
        "converter.representative_dataset = representative_dataset\n",
        "converter.inference_input_type = tf.int8  # or tf.uint8\n",
        "converter.inference_output_type = tf.int8  # or tf.uint8\n",
        "converter.optimizations = [tf.lite.Optimize.DEFAULT]\n",
        "tflite_model = converter.convert()\n",
        "\n",
        "# Save the model\n",
        "with open(tflite_model_path, 'wb') as f:\n",
        "    f.write(tflite_model)\n",
        "import tensorflow as tf\n",
        "import numpy as np\n",
        "tflite_model_path = './whisper-encoder-int8.tflite'\n",
        "\n",
        "# Load the TFLite model and allocate tensors\n",
        "interpreter = tf.lite.Interpreter(model_path=tflite_model_path)\n",
        "interpreter.allocate_tensors()\n",
        "\n",
        "print(\"== Input details ==\")\n",
        "print(\"name:\", interpreter.get_input_details()[0]['name'])\n",
        "print(\"shape:\", interpreter.get_input_details()[0]['shape'])\n",
        "print(\"type:\", interpreter.get_input_details()[0]['dtype'])\n",
        "\n",
        "print(\"\\nDUMP INPUT\")\n",
        "print(interpreter.get_input_details()[0])\n",
        "\n",
        "print(\"\\n== Output details ==\")\n",
        "print(\"name:\", interpreter.get_output_details()[0]['name'])\n",
        "print(\"shape:\", interpreter.get_output_details()[0]['shape'])\n",
        "print(\"type:\", interpreter.get_output_details()[0]['dtype'])\n",
        "\n",
        "print(\"\\nDUMP OUTPUT\")\n",
        "print(interpreter.get_output_details()[0])\n",
        "\n",
        "# Get input and output tensors\n",
        "input_details = interpreter.get_input_details()\n",
        "output_details = interpreter.get_output_details()\n",
        "\n",
        "# Test the model with random data\n",
        "input_shape = input_details[0]['shape']\n",
        "mel_from_file = log_mel_spectrogram('/content/whisper/tests/jfk.flac')\n",
        "input_tensor = pad_or_trim(mel_from_file, N_FRAMES)\n",
        "input_tensor = tf.expand_dims(input_tensor, 0)\n",
        "input_tensor = np.array(input_tensor-128, dtype=np.int8)\n",
        "interpreter.set_tensor(input_details[0]['index'], input_tensor)\n",
        "\n",
        "interpreter.invoke()\n",
        "print(\"Inference executed successfully\\n\")"
      ],
      "metadata": {
        "id": "qAdi5KwDbciZ",
        "outputId": "d2963f37-a717-4a86-fd7b-07bb6dd5f445",
        "colab": {
          "base_uri": "https://localhost:8080/"
        }
      },
      "execution_count": 2,
      "outputs": [
        {
          "output_type": "stream",
          "name": "stderr",
          "text": [
            "/usr/local/lib/python3.7/dist-packages/whisper/model.py:152: TracerWarning: Converting a tensor to a Python boolean might cause the trace to be incorrect. We can't record the data flow of Python values, so this value will be treated as a constant in the future. This means that the trace might not generalize to other inputs!\n",
            "  assert x.shape[1:] == self.positional_embedding.shape, \"incorrect audio shape\"\n",
            "/usr/local/lib/python3.7/dist-packages/whisper/model.py:90: UserWarning: __floordiv__ is deprecated, and its behavior will change in a future version of pytorch. It currently rounds toward 0 (like the 'trunc' function NOT 'floor'). This results in incorrect rounding for negative values. To keep the current behavior, use torch.div(a, b, rounding_mode='trunc'), or for actual floor division, use torch.div(a, b, rounding_mode='floor').\n",
            "  scale = (n_state // self.n_head) ** -0.25\n",
            "WARNING:absl:Function `__call__` contains input name(s) x.1 with unsupported characters which will be renamed to x_1 in the SavedModel.\n",
            "WARNING:absl:Found untraced functions such as gen_tensor_dict while saving (showing 1 of 1). These functions will not be directly callable after loading.\n"
          ]
        },
        {
          "output_type": "stream",
          "name": "stdout",
          "text": [
            "(1, 80, 3000)\n",
            "(1, 80, 3000)\n",
            "(1, 80, 3000)\n",
            "(1, 80, 3000)\n",
            "(1, 80, 3000)\n",
            "(1, 80, 3000)\n",
            "(1, 80, 3000)\n",
            "(1, 80, 3000)\n",
            "(1, 80, 3000)\n",
            "(1, 80, 3000)\n",
            "== Input details ==\n",
            "name: serving_default_x.1:0\n",
            "shape: [   1   80 3000]\n",
            "type: <class 'numpy.int8'>\n",
            "\n",
            "DUMP INPUT\n",
            "{'name': 'serving_default_x.1:0', 'index': 0, 'shape': array([   1,   80, 3000], dtype=int32), 'shape_signature': array([   1,   80, 3000], dtype=int32), 'dtype': <class 'numpy.int8'>, 'quantization': (0.007843137718737125, -59), 'quantization_parameters': {'scales': array([0.00784314], dtype=float32), 'zero_points': array([-59], dtype=int32), 'quantized_dimension': 0}, 'sparsity_parameters': {}}\n",
            "\n",
            "== Output details ==\n",
            "name: PartitionedCall:0\n",
            "shape: [   1 1500  384]\n",
            "type: <class 'numpy.int8'>\n",
            "\n",
            "DUMP OUTPUT\n",
            "{'name': 'PartitionedCall:0', 'index': 569, 'shape': array([   1, 1500,  384], dtype=int32), 'shape_signature': array([   1, 1500,  384], dtype=int32), 'dtype': <class 'numpy.int8'>, 'quantization': (0.1381371021270752, -2), 'quantization_parameters': {'scales': array([0.1381371], dtype=float32), 'zero_points': array([-2], dtype=int32), 'quantized_dimension': 0}, 'sparsity_parameters': {}}\n",
            "Inference executed successfully\n",
            "\n"
          ]
        }
      ]
    },
    {
      "cell_type": "markdown",
      "source": [
        "## Convert from pytorch to onnx"
      ],
      "metadata": {
        "id": "vAe5oHk1i0iI"
      }
    },
    {
      "cell_type": "code",
      "source": [
        "import whisper\n",
        "import torch\n",
        "\n",
        "tiny_model = whisper.load_model(\"tiny\")\n",
        "torch.onnx.export(tiny_model.decoder, (torch.tensor([[50258]]).to(\"cpu\"), torch.randn(1,384,384).to(\"cpu\")), \"/content/whisper-decoder_main.onnx\")\n",
        "torch.onnx.export(tiny_model.decoder, (torch.tensor([[50258, 50259, 50359]]).to(\"cpu\"), torch.randn(1, 384, 384).to(\"cpu\")), \"/content/whisper-decoder_language.onnx\")"
      ],
      "metadata": {
        "id": "DeDY0j0zitxx",
        "outputId": "41b531c7-79e3-43a7-de5e-bd4f1f7063be",
        "colab": {
          "base_uri": "https://localhost:8080/"
        }
      },
      "execution_count": 3,
      "outputs": [
        {
          "output_type": "stream",
          "name": "stderr",
          "text": [
            "/usr/local/lib/python3.7/dist-packages/whisper/model.py:90: UserWarning: __floordiv__ is deprecated, and its behavior will change in a future version of pytorch. It currently rounds toward 0 (like the 'trunc' function NOT 'floor'). This results in incorrect rounding for negative values. To keep the current behavior, use torch.div(a, b, rounding_mode='trunc'), or for actual floor division, use torch.div(a, b, rounding_mode='floor').\n",
            "  scale = (n_state // self.n_head) ** -0.25\n"
          ]
        }
      ]
    },
    {
      "cell_type": "markdown",
      "source": [
        "##Decoder TFLite model"
      ],
      "metadata": {
        "id": "mlx6ZxLtnrkR"
      }
    },
    {
      "cell_type": "code",
      "source": [
        "from onnx_tf.backend import prepare\n",
        "import onnx\n",
        "\n",
        "onnx_model_path = '/content/whisper-decoder_main.onnx'\n",
        "tf_model_path = 'model_tf-decoder_main'\n",
        "\n",
        "onnx_model = onnx.load(onnx_model_path)\n",
        "tf_rep = prepare(onnx_model)\n",
        "tf_rep.export_graph(tf_model_path)\n",
        "saved_model_dir = 'model_tf-decoder_main'\n",
        "tflite_model_path = 'whisper-decoder_main.tflite'\n",
        "\n",
        "# Convert the model\n",
        "converter = tf.lite.TFLiteConverter.from_saved_model(saved_model_dir)\n",
        "converter.target_spec.supported_ops = [\n",
        "  tf.lite.OpsSet.TFLITE_BUILTINS, # enable TensorFlow Lite ops.\n",
        "  tf.lite.OpsSet.SELECT_TF_OPS # enable TensorFlow ops.\n",
        "]\n",
        "converter.optimizations = [tf.lite.Optimize.DEFAULT]\n",
        "tflite_model = converter.convert()\n",
        "\n",
        "# Save the model\n",
        "with open(tflite_model_path, 'wb') as f:\n",
        "    f.write(tflite_model)"
      ],
      "metadata": {
        "id": "e6v4tHLuoAn1",
        "outputId": "bd2c47dd-cbe6-4e76-b2ff-8510c43ce36d",
        "colab": {
          "base_uri": "https://localhost:8080/"
        }
      },
      "execution_count": 4,
      "outputs": [
        {
          "output_type": "stream",
          "name": "stderr",
          "text": [
            "WARNING:absl:Function `__call__` contains input name(s) input.1, onnx_tf__tf_MatMul_1_66f36b24 with unsupported characters which will be renamed to input_1, onnx_tf__tf_matmul_1_66f36b24 in the SavedModel.\n",
            "WARNING:absl:Found untraced functions such as gen_tensor_dict while saving (showing 1 of 1). These functions will not be directly callable after loading.\n"
          ]
        }
      ]
    },
    {
      "cell_type": "markdown",
      "source": [
        "##Decoder language TFLite model"
      ],
      "metadata": {
        "id": "N531dxUQocM2"
      }
    },
    {
      "cell_type": "code",
      "source": [
        "from onnx_tf.backend import prepare\n",
        "import onnx\n",
        "\n",
        "onnx_model_path = '/content/whisper-decoder_language.onnx'\n",
        "tf_model_path = 'model_tf-decoder_language'\n",
        "\n",
        "onnx_model = onnx.load(onnx_model_path)\n",
        "tf_rep = prepare(onnx_model)\n",
        "tf_rep.export_graph(tf_model_path)\n",
        "saved_model_dir = 'model_tf-decoder_language'\n",
        "tflite_model_path = 'whisper-decoder_language.tflite'\n",
        "\n",
        "# Convert the model\n",
        "converter = tf.lite.TFLiteConverter.from_saved_model(saved_model_dir)\n",
        "converter.target_spec.supported_ops = [\n",
        "  tf.lite.OpsSet.TFLITE_BUILTINS, # enable TensorFlow Lite ops.\n",
        "  tf.lite.OpsSet.SELECT_TF_OPS # enable TensorFlow ops.\n",
        "]\n",
        "converter.optimizations = [tf.lite.Optimize.DEFAULT]\n",
        "tflite_model = converter.convert()\n",
        "\n",
        "# Save the model\n",
        "with open(tflite_model_path, 'wb') as f:\n",
        "    f.write(tflite_model)"
      ],
      "metadata": {
        "id": "3NTd-cq4ofzr",
        "outputId": "bd1a90c4-2b25-4556-ceba-ad2d63e41776",
        "colab": {
          "base_uri": "https://localhost:8080/"
        }
      },
      "execution_count": 5,
      "outputs": [
        {
          "output_type": "stream",
          "name": "stderr",
          "text": [
            "WARNING:absl:Function `__call__` contains input name(s) input.1, onnx_tf__tf_MatMul_1_40b066c1 with unsupported characters which will be renamed to input_1, onnx_tf__tf_matmul_1_40b066c1 in the SavedModel.\n",
            "WARNING:absl:Found untraced functions such as gen_tensor_dict while saving (showing 1 of 1). These functions will not be directly callable after loading.\n"
          ]
        }
      ]
    },
    {
      "cell_type": "markdown",
      "source": [
        "## Convert from pytorch to tflite using Tinynn"
      ],
      "metadata": {
        "id": "yFpdUZS2ivnh"
      }
    },
    {
      "cell_type": "code",
      "source": [
        "!pip install git+https://github.com/alibaba/TinyNeuralNetwork.git"
      ],
      "metadata": {
        "id": "lbU0cgCGklZl",
        "outputId": "7236a262-e6c8-4813-d40b-e7bb17d66744",
        "colab": {
          "base_uri": "https://localhost:8080/"
        }
      },
      "execution_count": 7,
      "outputs": [
        {
          "output_type": "stream",
          "name": "stdout",
          "text": [
            "Looking in indexes: https://pypi.org/simple, https://us-python.pkg.dev/colab-wheels/public/simple/\n",
            "Collecting git+https://github.com/alibaba/TinyNeuralNetwork.git\n",
            "  Cloning https://github.com/alibaba/TinyNeuralNetwork.git to /tmp/pip-req-build-cbt604dk\n",
            "  Running command git clone -q https://github.com/alibaba/TinyNeuralNetwork.git /tmp/pip-req-build-cbt604dk\n",
            "  Installing build dependencies ... \u001b[?25l\u001b[?25hdone\n",
            "  Getting requirements to build wheel ... \u001b[?25l\u001b[?25hdone\n",
            "    Preparing wheel metadata ... \u001b[?25l\u001b[?25hdone\n",
            "Requirement already satisfied: numpy>=1.18.5 in /usr/local/lib/python3.7/dist-packages (from TinyNeuralNetwork==0.1.0.20221012234053+186bfdf3b6001ea79788ce564f1bb71bf7a8daa1) (1.21.6)\n",
            "Collecting igraph>=0.9\n",
            "  Downloading igraph-0.10.1-cp37-cp37m-manylinux_2_17_x86_64.manylinux2014_x86_64.whl (3.2 MB)\n",
            "\u001b[K     |████████████████████████████████| 3.2 MB 32.4 MB/s \n",
            "\u001b[?25hRequirement already satisfied: PyYAML>=5.3.1 in /usr/local/lib/python3.7/dist-packages (from TinyNeuralNetwork==0.1.0.20221012234053+186bfdf3b6001ea79788ce564f1bb71bf7a8daa1) (6.0)\n",
            "Collecting ruamel.yaml>=0.16.12\n",
            "  Downloading ruamel.yaml-0.17.21-py3-none-any.whl (109 kB)\n",
            "\u001b[K     |████████████████████████████████| 109 kB 67.1 MB/s \n",
            "\u001b[?25hRequirement already satisfied: flatbuffers>=1.12 in /usr/local/lib/python3.7/dist-packages (from TinyNeuralNetwork==0.1.0.20221012234053+186bfdf3b6001ea79788ce564f1bb71bf7a8daa1) (1.12)\n",
            "Collecting texttable>=1.6.2\n",
            "  Downloading texttable-1.6.4-py2.py3-none-any.whl (10 kB)\n",
            "Collecting ruamel.yaml.clib>=0.2.6\n",
            "  Downloading ruamel.yaml.clib-0.2.6-cp37-cp37m-manylinux1_x86_64.whl (546 kB)\n",
            "\u001b[K     |████████████████████████████████| 546 kB 80.7 MB/s \n",
            "\u001b[?25hBuilding wheels for collected packages: TinyNeuralNetwork\n",
            "  Building wheel for TinyNeuralNetwork (PEP 517) ... \u001b[?25l\u001b[?25hdone\n",
            "  Created wheel for TinyNeuralNetwork: filename=TinyNeuralNetwork-0.1.0.20221012234055+186bfdf3b6001ea79788ce564f1bb71bf7a8daa1-py3-none-any.whl size=352174 sha256=4a1d931269fed7a088a0bb56f7c5eca6c313ccf86bec6d9c95fb6f5888335a84\n",
            "  Stored in directory: /tmp/pip-ephem-wheel-cache-6xkwxsxy/wheels/64/6b/f5/9cf69de054ba0de53e572bc2f13988a664f3dc9623e6f0825d\n",
            "Successfully built TinyNeuralNetwork\n",
            "Installing collected packages: texttable, ruamel.yaml.clib, ruamel.yaml, igraph, TinyNeuralNetwork\n",
            "Successfully installed TinyNeuralNetwork-0.1.0.20221012234055+186bfdf3b6001ea79788ce564f1bb71bf7a8daa1 igraph-0.10.1 ruamel.yaml-0.17.21 ruamel.yaml.clib-0.2.6 texttable-1.6.4\n"
          ]
        }
      ]
    },
    {
      "cell_type": "code",
      "source": [
        "import whisper\n",
        "import torch\n",
        "\n",
        "import torch.nn as nn\n",
        "from tinynn.converter import TFLiteConverter\n",
        "from tinynn.graph.quantization.quantizer import PostQuantizer\n",
        "from tinynn.graph.tracer import model_tracer\n",
        "from tinynn.util.train_util import DLContext, get_device, train\n",
        "\n",
        "model = whisper.load_model(\"tiny\")\n",
        "model.eval()\n",
        "audio = whisper.load_audio(\"/content/openai-whisper/filename.mp3\")\n",
        "audio = whisper.pad_or_trim(audio)\n",
        "print(audio.shape)\n",
        "# make log-Mel spectrogram and move to the same device as the model\n",
        "mel = whisper.log_mel_spectrogram(audio).to(model.device)\n",
        "print(mel.shape)\n",
        "quantizer = PostQuantizer(model, mel, work_dir='out', config={'asymmetric': True, 'per_tensor': False})\n",
        "#qat_model = quantizer.quantize()\n"
      ],
      "metadata": {
        "id": "ruITGopwrCz2",
        "outputId": "83d0f1a8-3f58-421b-e1fa-7d48f23ae21f",
        "colab": {
          "base_uri": "https://localhost:8080/"
        }
      },
      "execution_count": 8,
      "outputs": [
        {
          "output_type": "stream",
          "name": "stdout",
          "text": [
            "(480000,)\n",
            "torch.Size([80, 3000])\n"
          ]
        }
      ]
    }
  ],
  "metadata": {
    "colab": {
      "provenance": [],
      "toc_visible": true
    },
    "kernelspec": {
      "display_name": "Python 3",
      "name": "python3"
    },
    "language_info": {
      "name": "python"
    }
  },
  "nbformat": 4,
  "nbformat_minor": 0
}